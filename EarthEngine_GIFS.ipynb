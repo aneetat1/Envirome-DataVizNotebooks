{
  "nbformat": 4,
  "nbformat_minor": 0,
  "metadata": {
    "colab": {
      "name": "EarthEngine_GIFS.ipynb",
      "provenance": [],
      "collapsed_sections": [],
      "authorship_tag": "ABX9TyMmClQ6PS/VjNlMHxpWtPcL",
      "include_colab_link": true
    },
    "kernelspec": {
      "name": "python3",
      "display_name": "Python 3"
    },
    "language_info": {
      "name": "python"
    },
    "widgets": {
      "application/vnd.jupyter.widget-state+json": {
        "a66a7f5b820a4137998ff2953dbc5a89": {
          "model_module": "@jupyter-widgets/output",
          "model_name": "OutputModel",
          "model_module_version": "1.0.0",
          "state": {
            "_dom_classes": [],
            "_model_module": "@jupyter-widgets/output",
            "_model_module_version": "1.0.0",
            "_model_name": "OutputModel",
            "_view_count": null,
            "_view_module": "@jupyter-widgets/output",
            "_view_module_version": "1.0.0",
            "_view_name": "OutputView",
            "layout": "IPY_MODEL_6cf669fd849c45fcbe2c80cc90231532",
            "msg_id": "",
            "outputs": [
              {
                "output_type": "display_data",
                "data": {
                  "text/plain": "Image(value=b'GIF89a\\x00\\x03\\xa5\\x01\\xf7\\x1f\\x00\\x00\\x00\\x00$\\x00\\x00H\\x00\\x00l\\x00\\x00\\x90\\x00\\x00\\xb4\\x00\\x0…",
                  "application/vnd.jupyter.widget-view+json": {
                    "version_major": 2,
                    "version_minor": 0,
                    "model_id": "5bed362b4439458fbf32370dd6e456ef"
                  }
                },
                "metadata": {
                  "application/vnd.jupyter.widget-view+json": {
                    "colab": {
                      "custom_widget_manager": {
                        "url": "https://ssl.gstatic.com/colaboratory-static/widgets/colab-cdn-widget-manager/d2e234f7cc04bf79/manager.min.js"
                      }
                    }
                  }
                }
              }
            ]
          }
        },
        "6cf669fd849c45fcbe2c80cc90231532": {
          "model_module": "@jupyter-widgets/base",
          "model_name": "LayoutModel",
          "model_module_version": "1.2.0",
          "state": {
            "_model_module": "@jupyter-widgets/base",
            "_model_module_version": "1.2.0",
            "_model_name": "LayoutModel",
            "_view_count": null,
            "_view_module": "@jupyter-widgets/base",
            "_view_module_version": "1.2.0",
            "_view_name": "LayoutView",
            "align_content": null,
            "align_items": null,
            "align_self": null,
            "border": null,
            "bottom": null,
            "display": null,
            "flex": null,
            "flex_flow": null,
            "grid_area": null,
            "grid_auto_columns": null,
            "grid_auto_flow": null,
            "grid_auto_rows": null,
            "grid_column": null,
            "grid_gap": null,
            "grid_row": null,
            "grid_template_areas": null,
            "grid_template_columns": null,
            "grid_template_rows": null,
            "height": null,
            "justify_content": null,
            "justify_items": null,
            "left": null,
            "margin": null,
            "max_height": null,
            "max_width": null,
            "min_height": null,
            "min_width": null,
            "object_fit": null,
            "object_position": null,
            "order": null,
            "overflow": null,
            "overflow_x": null,
            "overflow_y": null,
            "padding": null,
            "right": null,
            "top": null,
            "visibility": null,
            "width": null
          }
        },
        "5bed362b4439458fbf32370dd6e456ef": {
          "model_module": "@jupyter-widgets/controls",
          "model_name": "ImageModel",
          "model_module_version": "1.5.0",
          "state": {
            "_dom_classes": [],
            "_model_module": "@jupyter-widgets/controls",
            "_model_module_version": "1.5.0",
            "_model_name": "ImageModel",
            "_view_count": null,
            "_view_module": "@jupyter-widgets/controls",
            "_view_module_version": "1.5.0",
            "_view_name": "ImageView",
            "format": "png",
            "height": "",
            "layout": "IPY_MODEL_1eb04df39c1a42938793280c39edd19d",
            "width": ""
          }
        },
        "1eb04df39c1a42938793280c39edd19d": {
          "model_module": "@jupyter-widgets/base",
          "model_name": "LayoutModel",
          "model_module_version": "1.2.0",
          "state": {
            "_model_module": "@jupyter-widgets/base",
            "_model_module_version": "1.2.0",
            "_model_name": "LayoutModel",
            "_view_count": null,
            "_view_module": "@jupyter-widgets/base",
            "_view_module_version": "1.2.0",
            "_view_name": "LayoutView",
            "align_content": null,
            "align_items": null,
            "align_self": null,
            "border": null,
            "bottom": null,
            "display": null,
            "flex": null,
            "flex_flow": null,
            "grid_area": null,
            "grid_auto_columns": null,
            "grid_auto_flow": null,
            "grid_auto_rows": null,
            "grid_column": null,
            "grid_gap": null,
            "grid_row": null,
            "grid_template_areas": null,
            "grid_template_columns": null,
            "grid_template_rows": null,
            "height": null,
            "justify_content": null,
            "justify_items": null,
            "left": null,
            "margin": null,
            "max_height": null,
            "max_width": null,
            "min_height": null,
            "min_width": null,
            "object_fit": null,
            "object_position": null,
            "order": null,
            "overflow": null,
            "overflow_x": null,
            "overflow_y": null,
            "padding": null,
            "right": null,
            "top": null,
            "visibility": null,
            "width": null
          }
        },
        "d1a00b9db8f04470b79cad33f1564c08": {
          "model_module": "@jupyter-widgets/output",
          "model_name": "OutputModel",
          "model_module_version": "1.0.0",
          "state": {
            "_dom_classes": [],
            "_model_module": "@jupyter-widgets/output",
            "_model_module_version": "1.0.0",
            "_model_name": "OutputModel",
            "_view_count": null,
            "_view_module": "@jupyter-widgets/output",
            "_view_module_version": "1.0.0",
            "_view_name": "OutputView",
            "layout": "IPY_MODEL_73294e3e7d06426bae66e7c3397b276c",
            "msg_id": "",
            "outputs": [
              {
                "output_type": "display_data",
                "data": {
                  "text/plain": "Image(value=b'GIF89a\\x00\\x03\\xa5\\x01\\xf7\\x1f\\x00\\x00\\x00\\x00$\\x00\\x00H\\x00\\x00l\\x00\\x00\\x90\\x00\\x00\\xb4\\x00\\x0…",
                  "application/vnd.jupyter.widget-view+json": {
                    "version_major": 2,
                    "version_minor": 0,
                    "model_id": "da0c4ddb9bc64826b01e302d553c92e3"
                  }
                },
                "metadata": {
                  "application/vnd.jupyter.widget-view+json": {
                    "colab": {
                      "custom_widget_manager": {
                        "url": "https://ssl.gstatic.com/colaboratory-static/widgets/colab-cdn-widget-manager/d2e234f7cc04bf79/manager.min.js"
                      }
                    }
                  }
                }
              }
            ]
          }
        },
        "73294e3e7d06426bae66e7c3397b276c": {
          "model_module": "@jupyter-widgets/base",
          "model_name": "LayoutModel",
          "model_module_version": "1.2.0",
          "state": {
            "_model_module": "@jupyter-widgets/base",
            "_model_module_version": "1.2.0",
            "_model_name": "LayoutModel",
            "_view_count": null,
            "_view_module": "@jupyter-widgets/base",
            "_view_module_version": "1.2.0",
            "_view_name": "LayoutView",
            "align_content": null,
            "align_items": null,
            "align_self": null,
            "border": null,
            "bottom": null,
            "display": null,
            "flex": null,
            "flex_flow": null,
            "grid_area": null,
            "grid_auto_columns": null,
            "grid_auto_flow": null,
            "grid_auto_rows": null,
            "grid_column": null,
            "grid_gap": null,
            "grid_row": null,
            "grid_template_areas": null,
            "grid_template_columns": null,
            "grid_template_rows": null,
            "height": null,
            "justify_content": null,
            "justify_items": null,
            "left": null,
            "margin": null,
            "max_height": null,
            "max_width": null,
            "min_height": null,
            "min_width": null,
            "object_fit": null,
            "object_position": null,
            "order": null,
            "overflow": null,
            "overflow_x": null,
            "overflow_y": null,
            "padding": null,
            "right": null,
            "top": null,
            "visibility": null,
            "width": null
          }
        },
        "da0c4ddb9bc64826b01e302d553c92e3": {
          "model_module": "@jupyter-widgets/controls",
          "model_name": "ImageModel",
          "model_module_version": "1.5.0",
          "state": {
            "_dom_classes": [],
            "_model_module": "@jupyter-widgets/controls",
            "_model_module_version": "1.5.0",
            "_model_name": "ImageModel",
            "_view_count": null,
            "_view_module": "@jupyter-widgets/controls",
            "_view_module_version": "1.5.0",
            "_view_name": "ImageView",
            "format": "png",
            "height": "",
            "layout": "IPY_MODEL_7c6367da6ee04f8682197e1b09b2ade7",
            "width": ""
          }
        },
        "7c6367da6ee04f8682197e1b09b2ade7": {
          "model_module": "@jupyter-widgets/base",
          "model_name": "LayoutModel",
          "model_module_version": "1.2.0",
          "state": {
            "_model_module": "@jupyter-widgets/base",
            "_model_module_version": "1.2.0",
            "_model_name": "LayoutModel",
            "_view_count": null,
            "_view_module": "@jupyter-widgets/base",
            "_view_module_version": "1.2.0",
            "_view_name": "LayoutView",
            "align_content": null,
            "align_items": null,
            "align_self": null,
            "border": null,
            "bottom": null,
            "display": null,
            "flex": null,
            "flex_flow": null,
            "grid_area": null,
            "grid_auto_columns": null,
            "grid_auto_flow": null,
            "grid_auto_rows": null,
            "grid_column": null,
            "grid_gap": null,
            "grid_row": null,
            "grid_template_areas": null,
            "grid_template_columns": null,
            "grid_template_rows": null,
            "height": null,
            "justify_content": null,
            "justify_items": null,
            "left": null,
            "margin": null,
            "max_height": null,
            "max_width": null,
            "min_height": null,
            "min_width": null,
            "object_fit": null,
            "object_position": null,
            "order": null,
            "overflow": null,
            "overflow_x": null,
            "overflow_y": null,
            "padding": null,
            "right": null,
            "top": null,
            "visibility": null,
            "width": null
          }
        },
        "e655805223334b6a91c19da443df1627": {
          "model_module": "@jupyter-widgets/output",
          "model_name": "OutputModel",
          "model_module_version": "1.0.0",
          "state": {
            "_dom_classes": [],
            "_model_module": "@jupyter-widgets/output",
            "_model_module_version": "1.0.0",
            "_model_name": "OutputModel",
            "_view_count": null,
            "_view_module": "@jupyter-widgets/output",
            "_view_module_version": "1.0.0",
            "_view_name": "OutputView",
            "layout": "IPY_MODEL_1eb3dc75e6b841eb859a7d76751d529a",
            "msg_id": "",
            "outputs": [
              {
                "output_type": "display_data",
                "data": {
                  "text/plain": "Image(value=b'GIF89a\\x00\\x03\\xa5\\x01\\xf7\\x1f\\x00\\x00\\x00\\x00$\\x00\\x00H\\x00\\x00l\\x00\\x00\\x90\\x00\\x00\\xb4\\x00\\x0…",
                  "application/vnd.jupyter.widget-view+json": {
                    "version_major": 2,
                    "version_minor": 0,
                    "model_id": "488ad9c4c4614654807dc31fb58d7118"
                  }
                },
                "metadata": {
                  "application/vnd.jupyter.widget-view+json": {
                    "colab": {
                      "custom_widget_manager": {
                        "url": "https://ssl.gstatic.com/colaboratory-static/widgets/colab-cdn-widget-manager/d2e234f7cc04bf79/manager.min.js"
                      }
                    }
                  }
                }
              }
            ]
          }
        },
        "1eb3dc75e6b841eb859a7d76751d529a": {
          "model_module": "@jupyter-widgets/base",
          "model_name": "LayoutModel",
          "model_module_version": "1.2.0",
          "state": {
            "_model_module": "@jupyter-widgets/base",
            "_model_module_version": "1.2.0",
            "_model_name": "LayoutModel",
            "_view_count": null,
            "_view_module": "@jupyter-widgets/base",
            "_view_module_version": "1.2.0",
            "_view_name": "LayoutView",
            "align_content": null,
            "align_items": null,
            "align_self": null,
            "border": null,
            "bottom": null,
            "display": null,
            "flex": null,
            "flex_flow": null,
            "grid_area": null,
            "grid_auto_columns": null,
            "grid_auto_flow": null,
            "grid_auto_rows": null,
            "grid_column": null,
            "grid_gap": null,
            "grid_row": null,
            "grid_template_areas": null,
            "grid_template_columns": null,
            "grid_template_rows": null,
            "height": null,
            "justify_content": null,
            "justify_items": null,
            "left": null,
            "margin": null,
            "max_height": null,
            "max_width": null,
            "min_height": null,
            "min_width": null,
            "object_fit": null,
            "object_position": null,
            "order": null,
            "overflow": null,
            "overflow_x": null,
            "overflow_y": null,
            "padding": null,
            "right": null,
            "top": null,
            "visibility": null,
            "width": null
          }
        },
        "488ad9c4c4614654807dc31fb58d7118": {
          "model_module": "@jupyter-widgets/controls",
          "model_name": "ImageModel",
          "model_module_version": "1.5.0",
          "state": {
            "_dom_classes": [],
            "_model_module": "@jupyter-widgets/controls",
            "_model_module_version": "1.5.0",
            "_model_name": "ImageModel",
            "_view_count": null,
            "_view_module": "@jupyter-widgets/controls",
            "_view_module_version": "1.5.0",
            "_view_name": "ImageView",
            "format": "png",
            "height": "",
            "layout": "IPY_MODEL_38fddb19e4454a72a8b0a4b15d886304",
            "width": ""
          }
        },
        "38fddb19e4454a72a8b0a4b15d886304": {
          "model_module": "@jupyter-widgets/base",
          "model_name": "LayoutModel",
          "model_module_version": "1.2.0",
          "state": {
            "_model_module": "@jupyter-widgets/base",
            "_model_module_version": "1.2.0",
            "_model_name": "LayoutModel",
            "_view_count": null,
            "_view_module": "@jupyter-widgets/base",
            "_view_module_version": "1.2.0",
            "_view_name": "LayoutView",
            "align_content": null,
            "align_items": null,
            "align_self": null,
            "border": null,
            "bottom": null,
            "display": null,
            "flex": null,
            "flex_flow": null,
            "grid_area": null,
            "grid_auto_columns": null,
            "grid_auto_flow": null,
            "grid_auto_rows": null,
            "grid_column": null,
            "grid_gap": null,
            "grid_row": null,
            "grid_template_areas": null,
            "grid_template_columns": null,
            "grid_template_rows": null,
            "height": null,
            "justify_content": null,
            "justify_items": null,
            "left": null,
            "margin": null,
            "max_height": null,
            "max_width": null,
            "min_height": null,
            "min_width": null,
            "object_fit": null,
            "object_position": null,
            "order": null,
            "overflow": null,
            "overflow_x": null,
            "overflow_y": null,
            "padding": null,
            "right": null,
            "top": null,
            "visibility": null,
            "width": null
          }
        },
        "b3b30f6202134a4ead507299490a84cf": {
          "model_module": "@jupyter-widgets/output",
          "model_name": "OutputModel",
          "model_module_version": "1.0.0",
          "state": {
            "_dom_classes": [],
            "_model_module": "@jupyter-widgets/output",
            "_model_module_version": "1.0.0",
            "_model_name": "OutputModel",
            "_view_count": null,
            "_view_module": "@jupyter-widgets/output",
            "_view_module_version": "1.0.0",
            "_view_name": "OutputView",
            "layout": "IPY_MODEL_dff50bba7ee74c2fad7d7031a76de2a6",
            "msg_id": "",
            "outputs": [
              {
                "output_type": "display_data",
                "data": {
                  "text/plain": "Image(value=b'GIF89a\\x00\\x03\\xa5\\x01\\xf7\\x1f\\x00\\x00\\x00\\x00$\\x00\\x00H\\x00\\x00l\\x00\\x00\\x90\\x00\\x00\\xb4\\x00\\x0…",
                  "application/vnd.jupyter.widget-view+json": {
                    "version_major": 2,
                    "version_minor": 0,
                    "model_id": "77bbe310a0b94d28b89387de8715a1bb"
                  }
                },
                "metadata": {
                  "application/vnd.jupyter.widget-view+json": {
                    "colab": {
                      "custom_widget_manager": {
                        "url": "https://ssl.gstatic.com/colaboratory-static/widgets/colab-cdn-widget-manager/d2e234f7cc04bf79/manager.min.js"
                      }
                    }
                  }
                }
              }
            ]
          }
        },
        "dff50bba7ee74c2fad7d7031a76de2a6": {
          "model_module": "@jupyter-widgets/base",
          "model_name": "LayoutModel",
          "model_module_version": "1.2.0",
          "state": {
            "_model_module": "@jupyter-widgets/base",
            "_model_module_version": "1.2.0",
            "_model_name": "LayoutModel",
            "_view_count": null,
            "_view_module": "@jupyter-widgets/base",
            "_view_module_version": "1.2.0",
            "_view_name": "LayoutView",
            "align_content": null,
            "align_items": null,
            "align_self": null,
            "border": null,
            "bottom": null,
            "display": null,
            "flex": null,
            "flex_flow": null,
            "grid_area": null,
            "grid_auto_columns": null,
            "grid_auto_flow": null,
            "grid_auto_rows": null,
            "grid_column": null,
            "grid_gap": null,
            "grid_row": null,
            "grid_template_areas": null,
            "grid_template_columns": null,
            "grid_template_rows": null,
            "height": null,
            "justify_content": null,
            "justify_items": null,
            "left": null,
            "margin": null,
            "max_height": null,
            "max_width": null,
            "min_height": null,
            "min_width": null,
            "object_fit": null,
            "object_position": null,
            "order": null,
            "overflow": null,
            "overflow_x": null,
            "overflow_y": null,
            "padding": null,
            "right": null,
            "top": null,
            "visibility": null,
            "width": null
          }
        },
        "77bbe310a0b94d28b89387de8715a1bb": {
          "model_module": "@jupyter-widgets/controls",
          "model_name": "ImageModel",
          "model_module_version": "1.5.0",
          "state": {
            "_dom_classes": [],
            "_model_module": "@jupyter-widgets/controls",
            "_model_module_version": "1.5.0",
            "_model_name": "ImageModel",
            "_view_count": null,
            "_view_module": "@jupyter-widgets/controls",
            "_view_module_version": "1.5.0",
            "_view_name": "ImageView",
            "format": "png",
            "height": "",
            "layout": "IPY_MODEL_e216e582c719472093ebaf003e523c48",
            "width": ""
          }
        },
        "e216e582c719472093ebaf003e523c48": {
          "model_module": "@jupyter-widgets/base",
          "model_name": "LayoutModel",
          "model_module_version": "1.2.0",
          "state": {
            "_model_module": "@jupyter-widgets/base",
            "_model_module_version": "1.2.0",
            "_model_name": "LayoutModel",
            "_view_count": null,
            "_view_module": "@jupyter-widgets/base",
            "_view_module_version": "1.2.0",
            "_view_name": "LayoutView",
            "align_content": null,
            "align_items": null,
            "align_self": null,
            "border": null,
            "bottom": null,
            "display": null,
            "flex": null,
            "flex_flow": null,
            "grid_area": null,
            "grid_auto_columns": null,
            "grid_auto_flow": null,
            "grid_auto_rows": null,
            "grid_column": null,
            "grid_gap": null,
            "grid_row": null,
            "grid_template_areas": null,
            "grid_template_columns": null,
            "grid_template_rows": null,
            "height": null,
            "justify_content": null,
            "justify_items": null,
            "left": null,
            "margin": null,
            "max_height": null,
            "max_width": null,
            "min_height": null,
            "min_width": null,
            "object_fit": null,
            "object_position": null,
            "order": null,
            "overflow": null,
            "overflow_x": null,
            "overflow_y": null,
            "padding": null,
            "right": null,
            "top": null,
            "visibility": null,
            "width": null
          }
        }
      }
    }
  },
  "cells": [
    {
      "cell_type": "markdown",
      "metadata": {
        "id": "view-in-github",
        "colab_type": "text"
      },
      "source": [
        "<a href=\"https://colab.research.google.com/github/aneetat1/Envirome-DataVizNotebooks/blob/main/EarthEngine_GIFS.ipynb\" target=\"_parent\"><img src=\"https://colab.research.google.com/assets/colab-badge.svg\" alt=\"Open In Colab\"/></a>"
      ]
    },
    {
      "cell_type": "markdown",
      "source": [
        "#**Welcome to our GEE (Google Earth Engine) Colab Notebook that we created for Envirome!** 👋\n",
        "##Below, you can view the code we wrote to visualize pollution data from Google Earth Engine. Our data was sourced from the Sentinel 5 Precursor satellite. \n",
        "###If you would like to see the maps on the notebook itself, you must run all the code cells.\n",
        "####Instructions to authorize access for Earth Engine:\n",
        "1. Run the very first code cell and wait for a link to pop up\n",
        "2. Click the link and next to data access check the box that says **use read-only scopes**\n",
        "3. Scroll down and click the blue button that says Generate Token\n",
        "4. Sign into your Google account and allow Earth Engine to access to view the data\n",
        "5. Copy the token under Authorization Code\n",
        "6. Go back to this Colab notebook and paste it in the box next to \"Enter verification code\" and click enter!\n",
        "7. Now you can run the rest of the code cells to see the maps :)\n",
        "\n",
        "\n",
        "©️ Envirome 2022\n",
        "\n"
      ],
      "metadata": {
        "id": "cKg5KmHl6xUK"
      }
    },
    {
      "cell_type": "code",
      "execution_count": null,
      "metadata": {
        "id": "98uQX5QcfvPE",
        "colab": {
          "base_uri": "https://localhost:8080/"
        },
        "outputId": "430b2da9-48c2-4fcd-b019-6d62c386aa51"
      },
      "outputs": [
        {
          "output_type": "stream",
          "name": "stdout",
          "text": [
            "To authorize access needed by Earth Engine, open the following URL in a web browser and follow the instructions. If the web browser does not start automatically, please manually browse the URL below.\n",
            "\n",
            "    https://code.earthengine.google.com/client-auth?scopes=https%3A//www.googleapis.com/auth/earthengine%20https%3A//www.googleapis.com/auth/devstorage.full_control&request_id=FGLcXhWjtzz81VvTydWkHEMh_F43ZZHS1QoGB2W1RLE&tc=ilKKbBmDc-F_fUb5wOTepVMFzLPsxhssgEZs1mgPgLE&cc=YRDYYmiYUIk9o8LzsXZsiRUlKjrGjVLHMhyu_zArHrU\n",
            "\n",
            "The authorization workflow will generate a code, which you should paste in the box below.\n",
            "Enter verification code: 4/1AdQt8qh6trTsCn8BY8IKInWSYgH0DU9szEf3-Ib1GR1D_xCd0uTJNJYbF-s\n",
            "\n",
            "Successfully saved authorization token.\n"
          ]
        }
      ],
      "source": [
        "#Imports, authenticates, and initializes Google Earth Engine 🌎\n",
        "import ee\n",
        "\n",
        "ee.Authenticate()\n",
        "ee.Initialize()"
      ]
    },
    {
      "cell_type": "code",
      "source": [
        "# Installs geemap package with folium 🍃\n",
        "import subprocess\n",
        "\n",
        "try:\n",
        "    import geemap.eefolium as geemap\n",
        "    print(\"geemap is imported and ready to use in Colab\")\n",
        "except ImportError:\n",
        "    print(\"geemap package not installed. Installing ...\")\n",
        "    subprocess.check_call([\"python\", \"-m\", \"pip\", \"install\", \"geemap\"])\n",
        "    import geemap.eefolium as geemap\n",
        "    print(\"geemap is now installed, imported and ready to use in Colab\")\n",
        "\n",
        "import geemap.timelapse as timelapse"
      ],
      "metadata": {
        "colab": {
          "base_uri": "https://localhost:8080/"
        },
        "id": "LAd_2jYGrGCB",
        "outputId": "4ec6c0a9-a6f1-4d29-8e5e-92ce3d0fd0a2"
      },
      "execution_count": null,
      "outputs": [
        {
          "output_type": "stream",
          "name": "stdout",
          "text": [
            "geemap is imported and ready to use in Colab\n"
          ]
        }
      ]
    },
    {
      "cell_type": "code",
      "source": [
        "#Creating a function to visualize data 👀\n",
        "def visualize(image, scale, palette, reducer, regions): \n",
        "  reducer_type = str(reducer)[73:-29]\n",
        "\n",
        "  reduced_img = image.reduceRegions(collection=regions, reducer=reducer, \\\n",
        "                                  scale=scale)\n",
        "  empty = ee.Image().byte()\n",
        "  fills = empty.paint(reduced_img, reducer_type)\n",
        "\n",
        "  params = {\n",
        "      \"max\": reduced_img.aggregate_max(reducer_type).getInfo(),\n",
        "      \"min\": reduced_img.aggregate_min(reducer_type).getInfo(),\n",
        "      \"palette\": palette\n",
        "  }\n",
        "\n",
        "  Map = geemap.Map()\n",
        "  Map.addLayer(fills, params, \"Regions Map\")\n",
        "  return Map"
      ],
      "metadata": {
        "id": "wNdgfPNPrTFl"
      },
      "execution_count": null,
      "outputs": []
    },
    {
      "cell_type": "code",
      "source": [
        "# Sets up the states feature collection ✨\n",
        "states = ee.FeatureCollection(\"TIGER/2018/States\")\n",
        "\n",
        "\n",
        "#Sets up the NO2 pollution dataset image collection 🌬️\n",
        "dataset1_ppm = ee.ImageCollection(\"COPERNICUS/S5P/OFFL/L3_NO2\").filterDate(\"2018-08-01\", \"2022-08-01\").select(\"NO2_column_number_density\")\n",
        "\n",
        "#Sets up the CO pollution dataset image collection 🌬️\n",
        "dataset2_ppm = ee.ImageCollection(\"COPERNICUS/S5P/OFFL/L3_CO\").filterDate(\"2018-08-01\", \"2022-08-01\").select(\"CO_column_number_density\")\n",
        "\n",
        "#Sets up the SO2 pollution dataset image collection 🌬️\n",
        "dataset3_ppm = ee.ImageCollection(\"COPERNICUS/S5P/OFFL/L3_SO2\").filterDate(\"2018-12-05\", \"2022-08-01\").select(\"SO2_column_number_density\")\n",
        "\n",
        "#Sets up the Formaldehyde pollution dataset image collection 🌬️\n",
        "dataset4_ppm = ee.ImageCollection(\"COPERNICUS/S5P/OFFL/L3_HCHO\").filterDate(\"2018-12-05\", \"2022-08-01\").select(\"tropospheric_HCHO_column_number_density\")"
      ],
      "metadata": {
        "id": "7Ca9AdpCrZyp"
      },
      "execution_count": null,
      "outputs": []
    },
    {
      "cell_type": "code",
      "source": [
        "# Reduces the NO2 collection to an image 📷\n",
        "image1_ppm = dataset1_ppm.reduce(ee.Reducer.mean())\n",
        "\n",
        "# Reduces the CO collection to an image 📷\n",
        "iamge2_ppm = dataset2_ppm.reduce(ee.Reducer.mean())\n",
        "\n",
        "# Reduces the SO2 collection to an image 📷\n",
        "image3_ppm = dataset3_ppm.reduce(ee.Reducer.mean())\n",
        "\n",
        "# Reduces the HCHO collection to an image 📷\n",
        "image4_ppm = dataset4_ppm.reduce(ee.Reducer.mean())"
      ],
      "metadata": {
        "id": "EVcPx82QrjzY"
      },
      "execution_count": null,
      "outputs": []
    },
    {
      "cell_type": "code",
      "source": [
        "#Creates the NO2 GIF! Coordinates were used to create a rough outline of the US, and the states feature collection was used as overlay data to make the US look more clear\n",
        "USGIF1_ppm = timelapse.create_timelapse(dataset1_ppm, \"2018-08-01\", \"2022-08-01\", \\\n",
        "                                       frequency = \"month\", date_format = \"YYYY-MM-dd\", \\\n",
        "                                       palette = ['black', 'blue', 'purple', 'cyan', 'green', 'yellow', 'red'], \\\n",
        "                                       frames_per_second = 8, \\\n",
        "                                        region=ee.Geometry.Polygon([[-78.47, 25.19, ], [-78.91, 31.98], [-75.22, 35.59], [-69.8, 41.31], [-70.03, 43.23], [-66.39, 45], [-68.07, 47.71], [-80.02, 44.61], [-87.35, 48.63], [-95.01, 49.5], [-124.23, 49.09], [-125.2, 40.1], [-119.74, 32.58], [-105.91, 30.04], [-97.57, 25.69], [-90.56, 28.81], [-83.69, 28.51]]), \\\n",
        "                                 overlay_data=states, overlay_color=\"black\", overlay_width=0.1, overlay_opacity=1.0, add_colorbar=True, colorbar_width=6.0, colorbar_height=0.4, colorbar_label=\"NO2 Column Density (mol/m^2)\", colorbar_label_size=12, colorbar_label_weight='normal', colorbar_tick_size=10, colorbar_bg_color=None, colorbar_orientation='horizontal', colorbar_dpi='figure', colorbar_xy=None, colorbar_size=(300, 300)\n",
        "                                       )\n",
        "\n"
      ],
      "metadata": {
        "colab": {
          "base_uri": "https://localhost:8080/"
        },
        "id": "kni58Tw0rrOk",
        "outputId": "317a85e8-eafd-4c1b-e04e-a4da9f4b46e0"
      },
      "execution_count": null,
      "outputs": [
        {
          "output_type": "stream",
          "name": "stdout",
          "text": [
            "Generating URL...\n",
            "Downloading GIF image from https://earthengine.googleapis.com/v1alpha/projects/earthengine-legacy/videoThumbnails/38b68ee7cc9a58975af6d87118f2c6f5-430f241dd58255ded70adb734f477660:getPixels\n",
            "Please wait ...\n",
            "The GIF image has been saved to: /tmp/b8dd5b52-a336-4547-8b04-308d624e1f0c.gif\n"
          ]
        }
      ]
    },
    {
      "cell_type": "code",
      "source": [
        "#Displays the GIF in the notebook! :)\n",
        "geemap.show_image(USGIF1_ppm)"
      ],
      "metadata": {
        "colab": {
          "base_uri": "https://localhost:8080/",
          "height": 447,
          "referenced_widgets": [
            "a66a7f5b820a4137998ff2953dbc5a89",
            "6cf669fd849c45fcbe2c80cc90231532",
            "5bed362b4439458fbf32370dd6e456ef",
            "1eb04df39c1a42938793280c39edd19d"
          ]
        },
        "id": "GCkI2U44r_1x",
        "outputId": "a5c5c09f-9043-4cad-f602-7c5408a805b3"
      },
      "execution_count": null,
      "outputs": [
        {
          "output_type": "display_data",
          "data": {
            "text/plain": [
              "Output()"
            ],
            "application/vnd.jupyter.widget-view+json": {
              "version_major": 2,
              "version_minor": 0,
              "model_id": "a66a7f5b820a4137998ff2953dbc5a89"
            }
          },
          "metadata": {
            "application/vnd.jupyter.widget-view+json": {
              "colab": {
                "custom_widget_manager": {
                  "url": "https://ssl.gstatic.com/colaboratory-static/widgets/colab-cdn-widget-manager/d2e234f7cc04bf79/manager.min.js"
                }
              }
            }
          }
        }
      ]
    },
    {
      "cell_type": "code",
      "source": [
        "#Creates the CO GIF! \n",
        "USGIF2_ppm = timelapse.create_timelapse(dataset2_ppm, \"2018-08-01\", \"2022-08-01\", \\\n",
        "                                       frequency = \"month\", date_format = \"YYYY-MM-dd\", \\\n",
        "                                       palette = ['black', 'blue', 'purple', 'cyan', 'green', 'yellow', 'red'], \\\n",
        "                                       frames_per_second = 8, \\\n",
        "                                        region=ee.Geometry.Polygon([[-78.47, 25.19, ], [-78.91, 31.98], [-75.22, 35.59], [-69.8, 41.31], [-70.03, 43.23], [-66.39, 45], [-68.07, 47.71], [-80.02, 44.61], [-87.35, 48.63], [-95.01, 49.5], [-124.23, 49.09], [-125.2, 40.1], [-119.74, 32.58], [-105.91, 30.04], [-97.57, 25.69], [-90.56, 28.81], [-83.69, 28.51]]), \\\n",
        "                                 overlay_data=states, overlay_color=\"black\", overlay_width=0.1, overlay_opacity=1.0, add_colorbar=True, colorbar_width=6.0, colorbar_height=0.4, colorbar_label=\"CO Column Density (mol/m^2)\", colorbar_label_size=12, colorbar_label_weight='normal', colorbar_tick_size=10, colorbar_bg_color=None, colorbar_orientation='horizontal', colorbar_dpi='figure', colorbar_xy=None, colorbar_size=(300, 300)\n",
        "                                       )\n",
        "\n"
      ],
      "metadata": {
        "colab": {
          "base_uri": "https://localhost:8080/"
        },
        "id": "X-5bixi35te6",
        "outputId": "c556523c-4b3c-44db-f76d-528b2b7c5e95"
      },
      "execution_count": null,
      "outputs": [
        {
          "output_type": "stream",
          "name": "stdout",
          "text": [
            "Generating URL...\n",
            "Downloading GIF image from https://earthengine.googleapis.com/v1alpha/projects/earthengine-legacy/videoThumbnails/48cae62fbb8a8f207b7a1eefdc1ee787-77d228a9a6d0904c6bfb86e918abb68f:getPixels\n",
            "Please wait ...\n",
            "The GIF image has been saved to: /tmp/2eff74f3-aa8d-4693-b77a-1407b35b15d9.gif\n"
          ]
        }
      ]
    },
    {
      "cell_type": "code",
      "source": [
        "#Displays the GIF in the notebook! :)\n",
        "geemap.show_image(USGIF2_ppm)"
      ],
      "metadata": {
        "colab": {
          "base_uri": "https://localhost:8080/",
          "height": 447,
          "referenced_widgets": [
            "d1a00b9db8f04470b79cad33f1564c08",
            "73294e3e7d06426bae66e7c3397b276c",
            "da0c4ddb9bc64826b01e302d553c92e3",
            "7c6367da6ee04f8682197e1b09b2ade7"
          ]
        },
        "id": "7CVzoKXY5441",
        "outputId": "130f5f60-4269-4d5b-e191-3dfc130dc018"
      },
      "execution_count": null,
      "outputs": [
        {
          "output_type": "display_data",
          "data": {
            "text/plain": [
              "Output()"
            ],
            "application/vnd.jupyter.widget-view+json": {
              "version_major": 2,
              "version_minor": 0,
              "model_id": "d1a00b9db8f04470b79cad33f1564c08"
            }
          },
          "metadata": {
            "application/vnd.jupyter.widget-view+json": {
              "colab": {
                "custom_widget_manager": {
                  "url": "https://ssl.gstatic.com/colaboratory-static/widgets/colab-cdn-widget-manager/d2e234f7cc04bf79/manager.min.js"
                }
              }
            }
          }
        }
      ]
    },
    {
      "cell_type": "code",
      "source": [
        "#Creates the SO2 GIF! \n",
        "USGIF3_ppm = timelapse.create_timelapse(dataset3_ppm, \"2018-12-05\", \"2022-08-01\", \\\n",
        "                                       frequency = \"month\", date_format = \"YYYY-MM-dd\", \\\n",
        "                                       palette = ['black', 'blue', 'purple', 'cyan', 'green', 'yellow', 'red'], \\\n",
        "                                       frames_per_second = 8, \\\n",
        "                                        region=ee.Geometry.Polygon([[-78.47, 25.19, ], [-78.91, 31.98], [-75.22, 35.59], [-69.8, 41.31], [-70.03, 43.23], [-66.39, 45], [-68.07, 47.71], [-80.02, 44.61], [-87.35, 48.63], [-95.01, 49.5], [-124.23, 49.09], [-125.2, 40.1], [-119.74, 32.58], [-105.91, 30.04], [-97.57, 25.69], [-90.56, 28.81], [-83.69, 28.51]]), \\\n",
        "                                 overlay_data=states, overlay_color=\"black\", overlay_width=0.1, overlay_opacity=1.0, add_colorbar=True, colorbar_width=6.0, colorbar_height=0.4, colorbar_label=\"SO2 Column Density (mol/m^2)\", colorbar_label_size=12, colorbar_label_weight='normal', colorbar_tick_size=10, colorbar_bg_color=None, colorbar_orientation='horizontal', colorbar_dpi='figure', colorbar_xy=None, colorbar_size=(300, 300)\n",
        "                                       )\n",
        "\n"
      ],
      "metadata": {
        "colab": {
          "base_uri": "https://localhost:8080/"
        },
        "id": "ejUJkI2XP_W-",
        "outputId": "f48ee563-d165-4c68-cd13-26a8680f1017"
      },
      "execution_count": null,
      "outputs": [
        {
          "output_type": "stream",
          "name": "stdout",
          "text": [
            "Generating URL...\n",
            "Downloading GIF image from https://earthengine.googleapis.com/v1alpha/projects/earthengine-legacy/videoThumbnails/59eb9e85916b2590301947384ea01888-3f4947190adc53a73a7b8a81284ca57d:getPixels\n",
            "Please wait ...\n",
            "The GIF image has been saved to: /tmp/4772309c-bb4c-4252-bbae-64624583c4e9.gif\n"
          ]
        }
      ]
    },
    {
      "cell_type": "code",
      "source": [
        "#Displays the GIF in the notebook! :)\n",
        "geemap.show_image(USGIF3_ppm)"
      ],
      "metadata": {
        "colab": {
          "base_uri": "https://localhost:8080/",
          "height": 447,
          "referenced_widgets": [
            "e655805223334b6a91c19da443df1627",
            "1eb3dc75e6b841eb859a7d76751d529a",
            "488ad9c4c4614654807dc31fb58d7118",
            "38fddb19e4454a72a8b0a4b15d886304"
          ]
        },
        "id": "ZrN5lNexQJk7",
        "outputId": "65ec92d2-e7e7-4182-8911-9b59b3628a69"
      },
      "execution_count": null,
      "outputs": [
        {
          "output_type": "display_data",
          "data": {
            "text/plain": [
              "Output()"
            ],
            "application/vnd.jupyter.widget-view+json": {
              "version_major": 2,
              "version_minor": 0,
              "model_id": "e655805223334b6a91c19da443df1627"
            }
          },
          "metadata": {
            "application/vnd.jupyter.widget-view+json": {
              "colab": {
                "custom_widget_manager": {
                  "url": "https://ssl.gstatic.com/colaboratory-static/widgets/colab-cdn-widget-manager/d2e234f7cc04bf79/manager.min.js"
                }
              }
            }
          }
        }
      ]
    },
    {
      "cell_type": "code",
      "source": [
        "#Creates the Formaledehyde GIF! \n",
        "USGIF4_ppm = timelapse.create_timelapse(dataset4_ppm, \"2018-12-05\", \"2022-08-01\", \\\n",
        "                                       frequency = \"month\", date_format = \"YYYY-MM-dd\", \\\n",
        "                                       palette = ['black', 'blue', 'purple', 'cyan', 'green', 'yellow', 'red'], \\\n",
        "                                       frames_per_second = 8, \\\n",
        "                                        region=ee.Geometry.Polygon([[-78.47, 25.19, ], [-78.91, 31.98], [-75.22, 35.59], [-69.8, 41.31], [-70.03, 43.23], [-66.39, 45], [-68.07, 47.71], [-80.02, 44.61], [-87.35, 48.63], [-95.01, 49.5], [-124.23, 49.09], [-125.2, 40.1], [-119.74, 32.58], [-105.91, 30.04], [-97.57, 25.69], [-90.56, 28.81], [-83.69, 28.51]]), \\\n",
        "                                 overlay_data=states, overlay_color=\"black\", overlay_width=0.1, overlay_opacity=1.0, add_colorbar=True, colorbar_width=6.0, colorbar_height=0.4, colorbar_label=\"HCHO Tropospheric Column Density (mol/m^2)\", colorbar_label_size=12, colorbar_label_weight='normal', colorbar_tick_size=10, colorbar_bg_color=None, colorbar_orientation='horizontal', colorbar_dpi='figure', colorbar_xy=None, colorbar_size=(300, 300)\n",
        "                                       )\n",
        "\n"
      ],
      "metadata": {
        "colab": {
          "base_uri": "https://localhost:8080/"
        },
        "id": "GQBiIkkVRlBO",
        "outputId": "b8d93bc6-6ae9-432d-cec5-6366fdc5852a"
      },
      "execution_count": null,
      "outputs": [
        {
          "output_type": "stream",
          "name": "stdout",
          "text": [
            "Generating URL...\n",
            "Downloading GIF image from https://earthengine.googleapis.com/v1alpha/projects/earthengine-legacy/videoThumbnails/50663e8fdea17dcdf65ad5093380ef5b-3354918675ff84f184b29caeb608c4be:getPixels\n",
            "Please wait ...\n",
            "The GIF image has been saved to: /tmp/df62e2c0-7d4e-4858-a636-ab900608bbb3.gif\n"
          ]
        }
      ]
    },
    {
      "cell_type": "code",
      "source": [
        "#Displays the GIF in the notebook! :)\n",
        "geemap.show_image(USGIF4_ppm)"
      ],
      "metadata": {
        "colab": {
          "base_uri": "https://localhost:8080/",
          "height": 447,
          "referenced_widgets": [
            "b3b30f6202134a4ead507299490a84cf",
            "dff50bba7ee74c2fad7d7031a76de2a6",
            "77bbe310a0b94d28b89387de8715a1bb",
            "e216e582c719472093ebaf003e523c48"
          ]
        },
        "id": "5Knp7uRNRwRn",
        "outputId": "edb87686-f847-48b9-e678-be329e0942c8"
      },
      "execution_count": null,
      "outputs": [
        {
          "output_type": "display_data",
          "data": {
            "text/plain": [
              "Output()"
            ],
            "application/vnd.jupyter.widget-view+json": {
              "version_major": 2,
              "version_minor": 0,
              "model_id": "b3b30f6202134a4ead507299490a84cf"
            }
          },
          "metadata": {
            "application/vnd.jupyter.widget-view+json": {
              "colab": {
                "custom_widget_manager": {
                  "url": "https://ssl.gstatic.com/colaboratory-static/widgets/colab-cdn-widget-manager/d2e234f7cc04bf79/manager.min.js"
                }
              }
            }
          }
        }
      ]
    }
  ]
}